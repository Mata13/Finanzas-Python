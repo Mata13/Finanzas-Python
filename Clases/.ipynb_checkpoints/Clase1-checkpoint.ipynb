{
 "cells": [
  {
   "cell_type": "markdown",
   "id": "9d8fa4a2-517a-4abf-9932-3334a7329021",
   "metadata": {},
   "source": [
    "# Mi primera clase con Python"
   ]
  },
  {
   "cell_type": "code",
   "execution_count": 1,
   "id": "fcbc7bcc-8657-4bed-93ca-8d18fa457a42",
   "metadata": {},
   "outputs": [
    {
     "name": "stdout",
     "output_type": "stream",
     "text": [
      "Hola Mundo\n"
     ]
    }
   ],
   "source": [
    "print('Hola Mundo')"
   ]
  },
  {
   "cell_type": "code",
   "execution_count": 2,
   "id": "5c151a5f-db17-418e-97d1-7399f8b8f1e9",
   "metadata": {},
   "outputs": [],
   "source": [
    "nombre = 'Shaggy'"
   ]
  },
  {
   "cell_type": "code",
   "execution_count": 3,
   "id": "6fc384d2-05c7-4b9f-b589-bcef66483793",
   "metadata": {},
   "outputs": [
    {
     "data": {
      "text/plain": [
       "'Shaggy'"
      ]
     },
     "execution_count": 3,
     "metadata": {},
     "output_type": "execute_result"
    }
   ],
   "source": [
    "nombre"
   ]
  },
  {
   "cell_type": "code",
   "execution_count": 4,
   "id": "3c49f27e-c26c-4a63-9d74-7e4a1a647f8f",
   "metadata": {},
   "outputs": [
    {
     "name": "stdout",
     "output_type": "stream",
     "text": [
      "Hola bienvenido a mi programa Shaggy\n"
     ]
    }
   ],
   "source": [
    "print(f\"Hola bienvenido a mi programa {nombre}\") # impresion de f-string"
   ]
  },
  {
   "cell_type": "markdown",
   "id": "f14ceb6c-21ad-4f9a-bc0a-5c8efb6fa65c",
   "metadata": {},
   "source": [
    "## Tipos de variables y operaciones"
   ]
  },
  {
   "cell_type": "code",
   "execution_count": 5,
   "id": "64a3e8ac-25ed-463e-9b74-23e05bee0c9f",
   "metadata": {},
   "outputs": [
    {
     "name": "stdout",
     "output_type": "stream",
     "text": [
      "5\n",
      "6\n",
      "1\n",
      "1.5\n",
      "9\n",
      "0\n"
     ]
    }
   ],
   "source": [
    "a = 3\n",
    "b = 2\n",
    "\n",
    "print (a + b) # suma\n",
    "print (a * b) # producto\n",
    "print (a - b) # resta\n",
    "print (a / b) # division\n",
    "print (a ** b) # potencia\n",
    "print (a % 3) # modulo"
   ]
  },
  {
   "cell_type": "code",
   "execution_count": 6,
   "id": "83369c2d-4947-4f93-a021-5d8b847b7bed",
   "metadata": {},
   "outputs": [
    {
     "data": {
      "text/plain": [
       "6"
      ]
     },
     "execution_count": 6,
     "metadata": {},
     "output_type": "execute_result"
    }
   ],
   "source": [
    "# dentro de 153 dias va ser domingo, suponiendo que hoy es lunes \n",
    "153%7"
   ]
  },
  {
   "cell_type": "code",
   "execution_count": 7,
   "id": "98bf1e9b-1110-4875-9381-8f8c6288d8f3",
   "metadata": {},
   "outputs": [
    {
     "data": {
      "text/plain": [
       "1"
      ]
     },
     "execution_count": 7,
     "metadata": {},
     "output_type": "execute_result"
    }
   ],
   "source": [
    "25%4   # 6*4 + 1"
   ]
  },
  {
   "cell_type": "markdown",
   "id": "520a01e1-f038-4a11-bc06-aa8d0ddb48ff",
   "metadata": {},
   "source": [
    "## Tipos de datos"
   ]
  },
  {
   "cell_type": "code",
   "execution_count": 8,
   "id": "fd5e15c2-5679-4684-a31a-50e996d92239",
   "metadata": {},
   "outputs": [],
   "source": [
    "enteros = 35 # int\n",
    "punt_decimal = 7.4 # float\n",
    "palabra = \"Hola mundo\"\n",
    "lista = [32, \"Hola Crayola\", \"Jonathan\", 32.2, [3, 2, 1]]"
   ]
  },
  {
   "cell_type": "code",
   "execution_count": 9,
   "id": "b5bfd676-7aea-4d81-8a6e-259d15604e2a",
   "metadata": {},
   "outputs": [
    {
     "data": {
      "text/plain": [
       "[3, 2, 1]"
      ]
     },
     "execution_count": 9,
     "metadata": {},
     "output_type": "execute_result"
    }
   ],
   "source": [
    "lista[4]"
   ]
  },
  {
   "cell_type": "code",
   "execution_count": 10,
   "id": "f7688e64-b593-4626-929e-2ce1367104ec",
   "metadata": {},
   "outputs": [],
   "source": [
    "lista.append(\"Rocky\") # agregamos un elemento a la lista"
   ]
  },
  {
   "cell_type": "code",
   "execution_count": 11,
   "id": "65cd7756-11e9-4ea0-9995-9e3e9ee1e140",
   "metadata": {},
   "outputs": [
    {
     "name": "stdout",
     "output_type": "stream",
     "text": [
      "[32, 'Hola Crayola', 'Jonathan', 32.2, [3, 2, 1], 'Rocky']\n"
     ]
    }
   ],
   "source": [
    "print(lista)"
   ]
  },
  {
   "cell_type": "markdown",
   "id": "a41fe518-a1fc-4b8f-8da2-6d5a904c599e",
   "metadata": {},
   "source": [
    "## Diccionarios"
   ]
  },
  {
   "cell_type": "code",
   "execution_count": 12,
   "id": "331f3552-2d97-43b3-8710-097aebe22430",
   "metadata": {},
   "outputs": [],
   "source": [
    "dic = {\"Carro\": \"Car\", \"Caballo\": \"Horse\", \"Adios\": \"by\"}"
   ]
  },
  {
   "cell_type": "code",
   "execution_count": 13,
   "id": "3b9e9ca3-895a-432d-a2d4-83f461595a30",
   "metadata": {},
   "outputs": [
    {
     "data": {
      "text/plain": [
       "'Car'"
      ]
     },
     "execution_count": 13,
     "metadata": {},
     "output_type": "execute_result"
    }
   ],
   "source": [
    "dic[\"Carro\"]"
   ]
  },
  {
   "cell_type": "code",
   "execution_count": 14,
   "id": "851e1d9d-7bd6-44e2-a853-3d484dffd46c",
   "metadata": {},
   "outputs": [],
   "source": [
    "# Creamos una \"base de datos\" de algunos individuos con sus atributos\n",
    "\n",
    "dic1 = {\"Kish\" : [\"23\", \"DJ\", \"Blanco\"], \"Rocky\": [\"10\", \"Pintura\", \"Azul\"], \"Canelo\": [\"29\", \"Futbol\", \"Rojo\"]}"
   ]
  },
  {
   "cell_type": "code",
   "execution_count": 15,
   "id": "a6e57776-ea64-49ca-b176-19360ecfd745",
   "metadata": {},
   "outputs": [
    {
     "data": {
      "text/plain": [
       "['10', 'Pintura', 'Azul']"
      ]
     },
     "execution_count": 15,
     "metadata": {},
     "output_type": "execute_result"
    }
   ],
   "source": [
    "dic1[\"Rocky\"]"
   ]
  },
  {
   "cell_type": "code",
   "execution_count": 16,
   "id": "7b0f62e7-3727-4f9f-8c4a-9d37c9d97678",
   "metadata": {},
   "outputs": [],
   "source": [
    " # Conjuntos\n",
    "\n",
    "conjunto = {1, 2, 3, 4, 5} # no repiten elementos, se pueden hacer operaciones de conjuntos!!"
   ]
  },
  {
   "cell_type": "code",
   "execution_count": 17,
   "id": "8f43a49a-dc32-45d5-954a-8d231bede69b",
   "metadata": {},
   "outputs": [
    {
     "data": {
      "text/plain": [
       "{1, 2, 3, 4, 5}"
      ]
     },
     "execution_count": 17,
     "metadata": {},
     "output_type": "execute_result"
    }
   ],
   "source": [
    "conjunto"
   ]
  },
  {
   "cell_type": "markdown",
   "id": "0646accc-7a75-4c83-bb02-31f56efba855",
   "metadata": {},
   "source": [
    "## Condicionales"
   ]
  },
  {
   "cell_type": "code",
   "execution_count": 18,
   "id": "65d22d9e-d708-4e4f-9f04-e3bec3d300ff",
   "metadata": {},
   "outputs": [
    {
     "name": "stdout",
     "output_type": "stream",
     "text": [
      "Hola Bienvenido a mi antro\n"
     ]
    },
    {
     "name": "stdin",
     "output_type": "stream",
     "text": [
      "Me puedes decir tu nombre? Rocky\n",
      "Me puedes decir tu edad? 21\n"
     ]
    }
   ],
   "source": [
    "print (\"Hola Bienvenido a mi antro\")\n",
    "nombre = input(\"Me puedes decir tu nombre?\")\n",
    "edad = int (input(\"Me puedes decir tu edad?\"))"
   ]
  },
  {
   "cell_type": "code",
   "execution_count": 19,
   "id": "bb090b90-f335-4e9b-b06c-360e78a99fa4",
   "metadata": {},
   "outputs": [
    {
     "data": {
      "text/plain": [
       "21"
      ]
     },
     "execution_count": 19,
     "metadata": {},
     "output_type": "execute_result"
    }
   ],
   "source": [
    "edad"
   ]
  },
  {
   "cell_type": "code",
   "execution_count": 20,
   "id": "2d16c594-6835-415d-93c7-f7758142b99d",
   "metadata": {},
   "outputs": [
    {
     "name": "stdout",
     "output_type": "stream",
     "text": [
      "Bienvenido a mi antro\n"
     ]
    }
   ],
   "source": [
    "if edad >18:\n",
    "    print(\"Bienvenido a mi antro\")\n",
    "elif edad == 18:\n",
    "    print(\"Justo estas en el rango, se feliz por hoy\")\n",
    "else: \n",
    "    print(\"No puede pasar\")"
   ]
  },
  {
   "cell_type": "markdown",
   "id": "78e358f3-4f88-42a0-bec9-cd9bf299985c",
   "metadata": {},
   "source": [
    "## Tipos de operadores logicos"
   ]
  },
  {
   "cell_type": "markdown",
   "id": "34b03a37-e7d5-46da-8c37-0655f35b12c5",
   "metadata": {},
   "source": [
    "#### > : mayor que\n",
    "#### < : menor que\n",
    "#### >= : mayor que\n",
    "#### <= : menor que\n",
    "#### & : (and) se cumplen las dos condiciones al mismo tiempo\n",
    "#### or : se cumple una o la otra condicion"
   ]
  },
  {
   "cell_type": "markdown",
   "id": "ac8031a3-30f4-4cb9-b824-4e08f931946a",
   "metadata": {},
   "source": [
    "## Ciclos"
   ]
  },
  {
   "cell_type": "code",
   "execution_count": 21,
   "id": "81efe6e0-a203-43c8-a001-5f7875b22dae",
   "metadata": {},
   "outputs": [],
   "source": [
    "lista = [\"NVIDIA\", \"TSLA\", \"KO\", \"BIMBO\"]"
   ]
  },
  {
   "cell_type": "code",
   "execution_count": 22,
   "id": "5a289a46-9ad1-4662-9454-08befc406dca",
   "metadata": {},
   "outputs": [
    {
     "name": "stdout",
     "output_type": "stream",
     "text": [
      "NVIDIA\n",
      "TSLA\n",
      "KO\n",
      "BIMBO\n"
     ]
    }
   ],
   "source": [
    "for j in lista:\n",
    "    print(j)"
   ]
  },
  {
   "cell_type": "code",
   "execution_count": 23,
   "id": "dd27baad-2d58-4c59-b58f-447b1a8d9fc4",
   "metadata": {},
   "outputs": [
    {
     "data": {
      "text/plain": [
       "range(0, 20)"
      ]
     },
     "execution_count": 23,
     "metadata": {},
     "output_type": "execute_result"
    }
   ],
   "source": [
    "range(20)"
   ]
  },
  {
   "cell_type": "code",
   "execution_count": 24,
   "id": "db140a2b-8fb2-4ea7-9f68-837150b35e15",
   "metadata": {},
   "outputs": [
    {
     "name": "stdout",
     "output_type": "stream",
     "text": [
      "0\n",
      "1\n",
      "2\n",
      "3\n",
      "4\n",
      "5\n",
      "6\n",
      "7\n",
      "8\n",
      "9\n",
      "10\n",
      "11\n",
      "12\n",
      "13\n",
      "14\n",
      "15\n",
      "16\n",
      "17\n",
      "18\n",
      "19\n"
     ]
    }
   ],
   "source": [
    "for i in range(20):\n",
    "    print(i)"
   ]
  },
  {
   "cell_type": "code",
   "execution_count": 25,
   "id": "e88b9220-4961-4bfe-896b-b4ceff792f25",
   "metadata": {},
   "outputs": [
    {
     "data": {
      "text/plain": [
       "{'Carro': 'Car', 'Caballo': 'Horse', 'Adios': 'by'}"
      ]
     },
     "execution_count": 25,
     "metadata": {},
     "output_type": "execute_result"
    }
   ],
   "source": [
    "dic"
   ]
  },
  {
   "cell_type": "code",
   "execution_count": 26,
   "id": "8f0324d3-99c2-4e22-8180-741d06e5f6e5",
   "metadata": {},
   "outputs": [
    {
     "data": {
      "text/plain": [
       "dict_keys(['Carro', 'Caballo', 'Adios'])"
      ]
     },
     "execution_count": 26,
     "metadata": {},
     "output_type": "execute_result"
    }
   ],
   "source": [
    "dic.keys()"
   ]
  },
  {
   "cell_type": "code",
   "execution_count": 27,
   "id": "c43b7731-d7f4-46f8-94cd-fe23f9d97d2a",
   "metadata": {},
   "outputs": [
    {
     "data": {
      "text/plain": [
       "dict_values(['Car', 'Horse', 'by'])"
      ]
     },
     "execution_count": 27,
     "metadata": {},
     "output_type": "execute_result"
    }
   ],
   "source": [
    "dic.values()"
   ]
  },
  {
   "cell_type": "code",
   "execution_count": 28,
   "id": "6768d3cd-171f-4fac-b05c-dbc07a5d88d2",
   "metadata": {},
   "outputs": [
    {
     "name": "stdout",
     "output_type": "stream",
     "text": [
      "Carro\n",
      "Caballo\n",
      "Adios\n"
     ]
    }
   ],
   "source": [
    "for i in dic.keys():\n",
    "    print(i)"
   ]
  },
  {
   "cell_type": "markdown",
   "id": "6e4edcfb-ecfc-4fae-b75c-0362712fc515",
   "metadata": {},
   "source": [
    "## Funciones"
   ]
  },
  {
   "cell_type": "code",
   "execution_count": 29,
   "id": "0a566b77-1df7-426a-9416-67429da8b6c6",
   "metadata": {},
   "outputs": [],
   "source": [
    "def fab_queso(objeto):\n",
    "    if objeto == \"queso\":\n",
    "        return \"queso\"\n",
    "    else:\n",
    "        print(\"No se que hacer con eso\")"
   ]
  },
  {
   "cell_type": "code",
   "execution_count": 30,
   "id": "41a5c298-aa7e-45ce-9cef-b763c3244720",
   "metadata": {},
   "outputs": [
    {
     "name": "stdout",
     "output_type": "stream",
     "text": [
      "No se que hacer con eso\n"
     ]
    }
   ],
   "source": [
    "fab_queso(\"pan\")"
   ]
  },
  {
   "cell_type": "code",
   "execution_count": 31,
   "id": "b6daf423-11a5-4f9d-93ad-f029b6c75303",
   "metadata": {},
   "outputs": [
    {
     "data": {
      "text/plain": [
       "'queso'"
      ]
     },
     "execution_count": 31,
     "metadata": {},
     "output_type": "execute_result"
    }
   ],
   "source": [
    "fab_queso(\"queso\")"
   ]
  },
  {
   "cell_type": "code",
   "execution_count": 32,
   "id": "a5e86ebd-8865-4513-8b5f-1aa433fb0fc4",
   "metadata": {},
   "outputs": [],
   "source": [
    "def calculadora(a, b):\n",
    "    r = int( input(\"Oye, que quieres hacer? \\n 1. Sumar \\n 2. Restar \\n 3. Multiplicar \\n \"))\n",
    "    if r == 1:\n",
    "        print(a + b)\n",
    "    elif r == 2:\n",
    "        print(a - b)\n",
    "    elif r == 3:\n",
    "        print(a * b)\n",
    "    else:\n",
    "        print(\"Syntax Error\")\n",
    "    \n",
    "        "
   ]
  },
  {
   "cell_type": "code",
   "execution_count": 33,
   "id": "59641137-d58b-41ec-820d-f62013080f31",
   "metadata": {},
   "outputs": [
    {
     "name": "stdin",
     "output_type": "stream",
     "text": [
      "Oye, que quieres hacer? \n",
      " 1. Sumar \n",
      " 2. Restar \n",
      " 3. Multiplicar \n",
      "  3\n"
     ]
    },
    {
     "name": "stdout",
     "output_type": "stream",
     "text": [
      "2\n"
     ]
    }
   ],
   "source": [
    "calculadora(1, 2)"
   ]
  },
  {
   "cell_type": "code",
   "execution_count": 34,
   "id": "a6516995-a0d6-45ce-802b-ef155e696f06",
   "metadata": {},
   "outputs": [
    {
     "name": "stdin",
     "output_type": "stream",
     "text": [
      "Oye, que quieres hacer? \n",
      " 1. Sumar \n",
      " 2. Restar \n",
      " 3. Multiplicar \n",
      "  3\n"
     ]
    },
    {
     "name": "stdout",
     "output_type": "stream",
     "text": [
      "6\n"
     ]
    }
   ],
   "source": [
    "calculadora(2, 3)"
   ]
  },
  {
   "cell_type": "code",
   "execution_count": null,
   "id": "c584e36c-6e4f-406f-bc89-894c5746c4b1",
   "metadata": {},
   "outputs": [],
   "source": []
  }
 ],
 "metadata": {
  "kernelspec": {
   "display_name": "Python 3 (ipykernel)",
   "language": "python",
   "name": "python3"
  },
  "language_info": {
   "codemirror_mode": {
    "name": "ipython",
    "version": 3
   },
   "file_extension": ".py",
   "mimetype": "text/x-python",
   "name": "python",
   "nbconvert_exporter": "python",
   "pygments_lexer": "ipython3",
   "version": "3.9.18"
  }
 },
 "nbformat": 4,
 "nbformat_minor": 5
}
